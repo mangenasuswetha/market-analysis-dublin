{
 "cells": [
  {
   "cell_type": "markdown",
   "id": "5274b452-51f0-44f0-9b81-302744f51ee2",
   "metadata": {},
   "source": [
    "# Market Analysis in Dublin"
   ]
  },
  {
   "cell_type": "markdown",
   "id": "301eb55c-3ceb-4821-abc9-93b796872d81",
   "metadata": {},
   "source": [
    "## Outline\n",
    "\n",
    "- [Objectives](#objectives)\n",
    "- [Setup](#setup)\n",
    "- [`searches` Dataset](#searches-data)\n",
    "    - [Most Popular Search Options for Number of Guests](#number-guests)\n",
    "    - [Time Range of Searches](#time-range-searches)\n",
    "    - [Maximum Price of Search Filter](#filter-price-max)\n",
    "    - [Length of Preparation](#length-preparation)\n",
    "    - [Most Popular Number of Nights Searched For](#number-nights)\n",
    "    - [Most Popular Months of Check In](#checkin-months)\n",
    "    - [Most Popular Room Types](#room-types)\n",
    "    - [Top Countries for Search Origins](#countries-search)\n",
    "- [`contacts` Dataset](#contacts-data)\n",
    "    - [Number of Guests who Stayed](#guests-stayed)\n",
    "    - [Conversion Rate from Accepting to Booking](#conversion-rate)\n",
    "    - [Time Range of Guests Acceptance or Rejection](#time-acceptance)\n",
    "- [Merged Dataset](#merged-data)\n",
    "    - [Difference in Prices Searched between Accepted and Rejected Applicants](#diff-price-acceptance)\n",
    "    - [Acceptance Rates by Price Class](#acceptance_rate)\n",
    "    - [Acceptance Rates by Country of Origin](#acceptance-rate-country)"
   ]
  },
  {
   "cell_type": "markdown",
   "id": "d4086e9b-b961-462f-afcd-d929d34cc0dc",
   "metadata": {},
   "source": [
    "## Objectives <a id='objectives'></a>"
   ]
  },
  {
   "cell_type": "markdown",
   "id": "780c5e4a-2ebc-4263-89d8-f3ed2ff61875",
   "metadata": {},
   "source": [
    "The task is to analyze, visualize, and communicate the supply and demand of the Airbnb market in Dublin.\n",
    "\n",
    "The following questions will be answered:\n",
    "\n",
    "- What are guests searching for in Dublin?\n",
    "- Which inquiries do hosts tend to accept?\n",
    "- What gaps exist between guest demand and host supply?\n",
    "- Is there additional information that would enhance understanding of the data?"
   ]
  },
  {
   "cell_type": "markdown",
   "id": "f8f99c06-da53-4a5b-ab9e-5f5eeed14eef",
   "metadata": {},
   "source": [
    "## Setup <a id='setup'></a>"
   ]
  },
  {
   "cell_type": "code",
   "execution_count": 1,
   "id": "6e5edfe7-be6f-452f-ae8c-7eeb2057d8c6",
   "metadata": {},
   "outputs": [],
   "source": [
    "# Import libraries\n",
    "import numpy as np\n",
    "import pandas as pd\n",
    "import matplotlib.pyplot as plt\n",
    "import seaborn as sns"
   ]
  },
  {
   "cell_type": "code",
   "execution_count": 2,
   "id": "53b41fd1-d118-4ae8-92db-1ecc364dfec0",
   "metadata": {},
   "outputs": [],
   "source": [
    "# Read data\n",
    "contacts = pd.read_csv('data/raw/contacts.tsv', sep='\\t')\n",
    "searches = pd.read_csv('data/raw/searches.tsv', sep='\\t')"
   ]
  },
  {
   "cell_type": "markdown",
   "id": "cbf46b55-984a-4943-9c6e-709ba97ae7ba",
   "metadata": {},
   "source": [
    "## `searches` Dataset <a id='searches-data'></a>"
   ]
  },
  {
   "cell_type": "code",
   "execution_count": 3,
   "id": "3d37a988-b39b-420c-af04-ae9130e735bd",
   "metadata": {},
   "outputs": [
    {
     "name": "stdout",
     "output_type": "stream",
     "text": [
      "<class 'pandas.core.frame.DataFrame'>\n",
      "RangeIndex: 35737 entries, 0 to 35736\n",
      "Data columns (total 13 columns):\n",
      " #   Column                Non-Null Count  Dtype  \n",
      "---  ------                --------------  -----  \n",
      " 0   ds                    35737 non-null  object \n",
      " 1   id_user               35737 non-null  object \n",
      " 2   ds_checkin            23888 non-null  object \n",
      " 3   ds_checkout           23888 non-null  object \n",
      " 4   n_searches            35737 non-null  int64  \n",
      " 5   n_nights              23888 non-null  float64\n",
      " 6   n_guests_min          35737 non-null  int64  \n",
      " 7   n_guests_max          35737 non-null  int64  \n",
      " 8   origin_country        35737 non-null  object \n",
      " 9   filter_price_min      13322 non-null  float64\n",
      " 10  filter_price_max      13322 non-null  float64\n",
      " 11  filter_room_types     16191 non-null  object \n",
      " 12  filter_neighborhoods  1346 non-null   object \n",
      "dtypes: float64(3), int64(3), object(7)\n",
      "memory usage: 3.5+ MB\n"
     ]
    }
   ],
   "source": [
    "# Information on searches DataFrame\n",
    "searches.info()"
   ]
  },
  {
   "cell_type": "code",
   "execution_count": 4,
   "id": "0f62b388-307e-4844-838f-99faa0b5be90",
   "metadata": {},
   "outputs": [
    {
     "data": {
      "text/html": [
       "<div>\n",
       "<style scoped>\n",
       "    .dataframe tbody tr th:only-of-type {\n",
       "        vertical-align: middle;\n",
       "    }\n",
       "\n",
       "    .dataframe tbody tr th {\n",
       "        vertical-align: top;\n",
       "    }\n",
       "\n",
       "    .dataframe thead th {\n",
       "        text-align: right;\n",
       "    }\n",
       "</style>\n",
       "<table border=\"1\" class=\"dataframe\">\n",
       "  <thead>\n",
       "    <tr style=\"text-align: right;\">\n",
       "      <th></th>\n",
       "      <th>ds</th>\n",
       "      <th>id_user</th>\n",
       "      <th>ds_checkin</th>\n",
       "      <th>ds_checkout</th>\n",
       "      <th>n_searches</th>\n",
       "      <th>n_nights</th>\n",
       "      <th>n_guests_min</th>\n",
       "      <th>n_guests_max</th>\n",
       "      <th>origin_country</th>\n",
       "      <th>filter_price_min</th>\n",
       "      <th>filter_price_max</th>\n",
       "      <th>filter_room_types</th>\n",
       "      <th>filter_neighborhoods</th>\n",
       "    </tr>\n",
       "  </thead>\n",
       "  <tbody>\n",
       "    <tr>\n",
       "      <th>0</th>\n",
       "      <td>2014-10-01</td>\n",
       "      <td>0000af0a-6f26-4233-9832-27efbfb36148</td>\n",
       "      <td>2014-10-09</td>\n",
       "      <td>2014-10-12</td>\n",
       "      <td>16</td>\n",
       "      <td>3.0</td>\n",
       "      <td>2</td>\n",
       "      <td>2</td>\n",
       "      <td>IE</td>\n",
       "      <td>0.0</td>\n",
       "      <td>67.0</td>\n",
       "      <td>,Entire home/apt,Entire home/apt,Private room,...</td>\n",
       "      <td>NaN</td>\n",
       "    </tr>\n",
       "    <tr>\n",
       "      <th>1</th>\n",
       "      <td>2014-10-01</td>\n",
       "      <td>0000af0a-6f26-4233-9832-27efbfb36148</td>\n",
       "      <td>2014-10-09</td>\n",
       "      <td>2014-10-19</td>\n",
       "      <td>3</td>\n",
       "      <td>10.0</td>\n",
       "      <td>1</td>\n",
       "      <td>2</td>\n",
       "      <td>IE</td>\n",
       "      <td>0.0</td>\n",
       "      <td>67.0</td>\n",
       "      <td>NaN</td>\n",
       "      <td>NaN</td>\n",
       "    </tr>\n",
       "    <tr>\n",
       "      <th>2</th>\n",
       "      <td>2014-10-01</td>\n",
       "      <td>000cd9d3-e05b-4016-9e09-34a6f8ba2fc5</td>\n",
       "      <td>NaN</td>\n",
       "      <td>NaN</td>\n",
       "      <td>1</td>\n",
       "      <td>NaN</td>\n",
       "      <td>1</td>\n",
       "      <td>1</td>\n",
       "      <td>GB</td>\n",
       "      <td>NaN</td>\n",
       "      <td>NaN</td>\n",
       "      <td>NaN</td>\n",
       "      <td>NaN</td>\n",
       "    </tr>\n",
       "    <tr>\n",
       "      <th>3</th>\n",
       "      <td>2014-10-01</td>\n",
       "      <td>000cd9d3-e05b-4016-9e09-34a6f8ba2fc5</td>\n",
       "      <td>2014-11-08</td>\n",
       "      <td>2014-11-10</td>\n",
       "      <td>11</td>\n",
       "      <td>2.0</td>\n",
       "      <td>1</td>\n",
       "      <td>2</td>\n",
       "      <td>GB</td>\n",
       "      <td>NaN</td>\n",
       "      <td>NaN</td>\n",
       "      <td>,Entire home/apt</td>\n",
       "      <td>NaN</td>\n",
       "    </tr>\n",
       "    <tr>\n",
       "      <th>4</th>\n",
       "      <td>2014-10-01</td>\n",
       "      <td>001c04f0-5a94-4ee0-bf5d-3591265256de</td>\n",
       "      <td>NaN</td>\n",
       "      <td>NaN</td>\n",
       "      <td>1</td>\n",
       "      <td>NaN</td>\n",
       "      <td>1</td>\n",
       "      <td>1</td>\n",
       "      <td>IE</td>\n",
       "      <td>NaN</td>\n",
       "      <td>NaN</td>\n",
       "      <td>NaN</td>\n",
       "      <td>NaN</td>\n",
       "    </tr>\n",
       "  </tbody>\n",
       "</table>\n",
       "</div>"
      ],
      "text/plain": [
       "           ds                               id_user  ds_checkin ds_checkout  \\\n",
       "0  2014-10-01  0000af0a-6f26-4233-9832-27efbfb36148  2014-10-09  2014-10-12   \n",
       "1  2014-10-01  0000af0a-6f26-4233-9832-27efbfb36148  2014-10-09  2014-10-19   \n",
       "2  2014-10-01  000cd9d3-e05b-4016-9e09-34a6f8ba2fc5         NaN         NaN   \n",
       "3  2014-10-01  000cd9d3-e05b-4016-9e09-34a6f8ba2fc5  2014-11-08  2014-11-10   \n",
       "4  2014-10-01  001c04f0-5a94-4ee0-bf5d-3591265256de         NaN         NaN   \n",
       "\n",
       "   n_searches  n_nights  n_guests_min  n_guests_max origin_country  \\\n",
       "0          16       3.0             2             2             IE   \n",
       "1           3      10.0             1             2             IE   \n",
       "2           1       NaN             1             1             GB   \n",
       "3          11       2.0             1             2             GB   \n",
       "4           1       NaN             1             1             IE   \n",
       "\n",
       "   filter_price_min  filter_price_max  \\\n",
       "0               0.0              67.0   \n",
       "1               0.0              67.0   \n",
       "2               NaN               NaN   \n",
       "3               NaN               NaN   \n",
       "4               NaN               NaN   \n",
       "\n",
       "                                   filter_room_types filter_neighborhoods  \n",
       "0  ,Entire home/apt,Entire home/apt,Private room,...                  NaN  \n",
       "1                                                NaN                  NaN  \n",
       "2                                                NaN                  NaN  \n",
       "3                                   ,Entire home/apt                  NaN  \n",
       "4                                                NaN                  NaN  "
      ]
     },
     "execution_count": 4,
     "metadata": {},
     "output_type": "execute_result"
    }
   ],
   "source": [
    "# Show first 5 rows of searches\n",
    "searches.head()"
   ]
  },
  {
   "cell_type": "code",
   "execution_count": 5,
   "id": "3fae1f32-c5cb-4c31-9de4-3a507090e3d4",
   "metadata": {},
   "outputs": [
    {
     "name": "stdout",
     "output_type": "stream",
     "text": [
      "Percentage of null values in searches data:\n",
      "ds                      0.000000\n",
      "id_user                 0.000000\n",
      "ds_checkin              0.331561\n",
      "ds_checkout             0.331561\n",
      "n_searches              0.000000\n",
      "n_nights                0.331561\n",
      "n_guests_min            0.000000\n",
      "n_guests_max            0.000000\n",
      "origin_country          0.000000\n",
      "filter_price_min        0.627221\n",
      "filter_price_max        0.627221\n",
      "filter_room_types       0.546940\n",
      "filter_neighborhoods    0.962336\n",
      "dtype: float64\n"
     ]
    }
   ],
   "source": [
    "# Find percentage of null values in data\n",
    "print(f'Percentage of null values in searches data:\\n{searches.isna().sum()/len(searches)}')"
   ]
  },
  {
   "cell_type": "markdown",
   "id": "3d62211d-dbda-4422-aac5-9169fd7cdd48",
   "metadata": {},
   "source": [
    "The `filter_neighborhoods` column in the `searches` data has around 96% null values. Keeping these values could result in inaccurate assumptions about the guest demand."
   ]
  },
  {
   "cell_type": "code",
   "execution_count": 6,
   "id": "f82d7e90-6f90-407f-a318-94bcfc2c74f5",
   "metadata": {
    "scrolled": true
   },
   "outputs": [
    {
     "data": {
      "text/plain": [
       "filter_neighborhoods\n",
       ",City Centre                                                                                                                                                     719\n",
       ",City Centre,Old City                                                                                                                                             46\n",
       ",Temple Bar                                                                                                                                                       42\n",
       "City Centre                                                                                                                                                       33\n",
       ",City Centre,Temple Bar                                                                                                                                           29\n",
       "                                                                                                                                                                ... \n",
       ",Ballsbridge,Donnybrook,Ranelagh and Rathmines,Rathfarnham,Rathgar,Ringsend/Irishtown                                                                              1\n",
       ",City Centre,North City Central/O'Connell Street,Temple Bar                                                                                                        1\n",
       ",City Centre,City Centre,Ranelagh and Rathmines,Docklands,Donnybrook,Portobello                                                                                    1\n",
       ",Ranelagh and Rathmines,Ballsbridge,Donnybrook,Georgian Quarter,Old City,Portobello,Rathgar,Ringsend/Irishtown,Sandymount,Temple Bar,Terenure,Trinity College      1\n",
       ",City Centre,City Centre,Old City,North City Central/O'Connell Street                                                                                              1\n",
       "Name: count, Length: 270, dtype: int64"
      ]
     },
     "execution_count": 6,
     "metadata": {},
     "output_type": "execute_result"
    }
   ],
   "source": [
    "# Check filter_neighborhoods column\n",
    "searches['filter_neighborhoods'].value_counts()"
   ]
  },
  {
   "cell_type": "markdown",
   "id": "841a7c85-72de-44a9-b8c1-121ace2e73ed",
   "metadata": {},
   "source": [
    "'City Centre' is a popular choice, and should be investigated further with more data."
   ]
  },
  {
   "cell_type": "code",
   "execution_count": 7,
   "id": "5480579f-bb9a-4948-ac44-4482f9508843",
   "metadata": {},
   "outputs": [],
   "source": [
    "# Drop filter_neighborhoods column\n",
    "searches = searches.drop(columns='filter_neighborhoods')"
   ]
  },
  {
   "cell_type": "code",
   "execution_count": 8,
   "id": "e18ec0d0-1cc4-423f-a923-df5b7e3ded05",
   "metadata": {},
   "outputs": [],
   "source": [
    "# Convert date columns to datetime data type\n",
    "searches['ds'] = pd.to_datetime(searches['ds'])\n",
    "searches['ds_checkin'] = pd.to_datetime(searches['ds_checkin'])\n",
    "searches['ds_checkout'] = pd.to_datetime(searches['ds_checkout'])"
   ]
  },
  {
   "cell_type": "code",
   "execution_count": 9,
   "id": "d1e9e76c-6797-4512-b071-f65f9fd7ccba",
   "metadata": {},
   "outputs": [],
   "source": [
    "# Create length_preparation feature to measure how soon guests want to check in\n",
    "searches['length_preparation'] = searches['ds_checkin'] - searches['ds']"
   ]
  },
  {
   "cell_type": "code",
   "execution_count": 10,
   "id": "e3e42375-89d1-4636-8a2b-c4d7c2662e5b",
   "metadata": {},
   "outputs": [
    {
     "data": {
      "text/html": [
       "<div>\n",
       "<style scoped>\n",
       "    .dataframe tbody tr th:only-of-type {\n",
       "        vertical-align: middle;\n",
       "    }\n",
       "\n",
       "    .dataframe tbody tr th {\n",
       "        vertical-align: top;\n",
       "    }\n",
       "\n",
       "    .dataframe thead th {\n",
       "        text-align: right;\n",
       "    }\n",
       "</style>\n",
       "<table border=\"1\" class=\"dataframe\">\n",
       "  <thead>\n",
       "    <tr style=\"text-align: right;\">\n",
       "      <th></th>\n",
       "      <th>ds</th>\n",
       "      <th>ds_checkin</th>\n",
       "      <th>ds_checkout</th>\n",
       "      <th>n_searches</th>\n",
       "      <th>n_nights</th>\n",
       "      <th>n_guests_min</th>\n",
       "      <th>n_guests_max</th>\n",
       "      <th>filter_price_min</th>\n",
       "      <th>filter_price_max</th>\n",
       "      <th>length_preparation</th>\n",
       "    </tr>\n",
       "  </thead>\n",
       "  <tbody>\n",
       "    <tr>\n",
       "      <th>count</th>\n",
       "      <td>35737</td>\n",
       "      <td>23888</td>\n",
       "      <td>23888</td>\n",
       "      <td>35737.000000</td>\n",
       "      <td>23888.000000</td>\n",
       "      <td>35737.000000</td>\n",
       "      <td>35737.000000</td>\n",
       "      <td>13322.000000</td>\n",
       "      <td>1.332200e+04</td>\n",
       "      <td>23888</td>\n",
       "    </tr>\n",
       "    <tr>\n",
       "      <th>mean</th>\n",
       "      <td>2014-10-07 14:32:34.478551552</td>\n",
       "      <td>2014-11-27 22:42:10.609511168</td>\n",
       "      <td>2014-12-05 14:50:57.468184832</td>\n",
       "      <td>9.206565</td>\n",
       "      <td>7.672765</td>\n",
       "      <td>1.742955</td>\n",
       "      <td>2.105857</td>\n",
       "      <td>8.470200</td>\n",
       "      <td>9.019063e+07</td>\n",
       "      <td>51 days 08:11:53.730743469</td>\n",
       "    </tr>\n",
       "    <tr>\n",
       "      <th>min</th>\n",
       "      <td>2014-10-01 00:00:00</td>\n",
       "      <td>2014-10-01 00:00:00</td>\n",
       "      <td>2014-10-02 00:00:00</td>\n",
       "      <td>1.000000</td>\n",
       "      <td>0.000000</td>\n",
       "      <td>1.000000</td>\n",
       "      <td>1.000000</td>\n",
       "      <td>0.000000</td>\n",
       "      <td>9.000000e+00</td>\n",
       "      <td>-1 days +00:00:00</td>\n",
       "    </tr>\n",
       "    <tr>\n",
       "      <th>25%</th>\n",
       "      <td>2014-10-04 00:00:00</td>\n",
       "      <td>2014-10-17 00:00:00</td>\n",
       "      <td>2014-10-23 00:00:00</td>\n",
       "      <td>1.000000</td>\n",
       "      <td>2.000000</td>\n",
       "      <td>1.000000</td>\n",
       "      <td>1.000000</td>\n",
       "      <td>0.000000</td>\n",
       "      <td>8.600000e+01</td>\n",
       "      <td>10 days 00:00:00</td>\n",
       "    </tr>\n",
       "    <tr>\n",
       "      <th>50%</th>\n",
       "      <td>2014-10-08 00:00:00</td>\n",
       "      <td>2014-11-03 00:00:00</td>\n",
       "      <td>2014-11-09 00:00:00</td>\n",
       "      <td>4.000000</td>\n",
       "      <td>3.000000</td>\n",
       "      <td>1.000000</td>\n",
       "      <td>2.000000</td>\n",
       "      <td>0.000000</td>\n",
       "      <td>1.390000e+02</td>\n",
       "      <td>26 days 00:00:00</td>\n",
       "    </tr>\n",
       "    <tr>\n",
       "      <th>75%</th>\n",
       "      <td>2014-10-11 00:00:00</td>\n",
       "      <td>2014-12-13 00:00:00</td>\n",
       "      <td>2014-12-24 00:00:00</td>\n",
       "      <td>10.000000</td>\n",
       "      <td>5.000000</td>\n",
       "      <td>2.000000</td>\n",
       "      <td>2.000000</td>\n",
       "      <td>0.000000</td>\n",
       "      <td>3.010000e+02</td>\n",
       "      <td>67 days 00:00:00</td>\n",
       "    </tr>\n",
       "    <tr>\n",
       "      <th>max</th>\n",
       "      <td>2014-10-14 00:00:00</td>\n",
       "      <td>2016-06-02 00:00:00</td>\n",
       "      <td>2016-08-17 00:00:00</td>\n",
       "      <td>448.000000</td>\n",
       "      <td>399.000000</td>\n",
       "      <td>16.000000</td>\n",
       "      <td>16.000000</td>\n",
       "      <td>1250.000000</td>\n",
       "      <td>1.073742e+09</td>\n",
       "      <td>604 days 00:00:00</td>\n",
       "    </tr>\n",
       "    <tr>\n",
       "      <th>std</th>\n",
       "      <td>NaN</td>\n",
       "      <td>NaN</td>\n",
       "      <td>NaN</td>\n",
       "      <td>17.348746</td>\n",
       "      <td>21.557614</td>\n",
       "      <td>1.460440</td>\n",
       "      <td>1.817358</td>\n",
       "      <td>53.987679</td>\n",
       "      <td>2.978482e+08</td>\n",
       "      <td>65 days 18:56:19.491940518</td>\n",
       "    </tr>\n",
       "  </tbody>\n",
       "</table>\n",
       "</div>"
      ],
      "text/plain": [
       "                                  ds                     ds_checkin  \\\n",
       "count                          35737                          23888   \n",
       "mean   2014-10-07 14:32:34.478551552  2014-11-27 22:42:10.609511168   \n",
       "min              2014-10-01 00:00:00            2014-10-01 00:00:00   \n",
       "25%              2014-10-04 00:00:00            2014-10-17 00:00:00   \n",
       "50%              2014-10-08 00:00:00            2014-11-03 00:00:00   \n",
       "75%              2014-10-11 00:00:00            2014-12-13 00:00:00   \n",
       "max              2014-10-14 00:00:00            2016-06-02 00:00:00   \n",
       "std                              NaN                            NaN   \n",
       "\n",
       "                         ds_checkout    n_searches      n_nights  \\\n",
       "count                          23888  35737.000000  23888.000000   \n",
       "mean   2014-12-05 14:50:57.468184832      9.206565      7.672765   \n",
       "min              2014-10-02 00:00:00      1.000000      0.000000   \n",
       "25%              2014-10-23 00:00:00      1.000000      2.000000   \n",
       "50%              2014-11-09 00:00:00      4.000000      3.000000   \n",
       "75%              2014-12-24 00:00:00     10.000000      5.000000   \n",
       "max              2016-08-17 00:00:00    448.000000    399.000000   \n",
       "std                              NaN     17.348746     21.557614   \n",
       "\n",
       "       n_guests_min  n_guests_max  filter_price_min  filter_price_max  \\\n",
       "count  35737.000000  35737.000000      13322.000000      1.332200e+04   \n",
       "mean       1.742955      2.105857          8.470200      9.019063e+07   \n",
       "min        1.000000      1.000000          0.000000      9.000000e+00   \n",
       "25%        1.000000      1.000000          0.000000      8.600000e+01   \n",
       "50%        1.000000      2.000000          0.000000      1.390000e+02   \n",
       "75%        2.000000      2.000000          0.000000      3.010000e+02   \n",
       "max       16.000000     16.000000       1250.000000      1.073742e+09   \n",
       "std        1.460440      1.817358         53.987679      2.978482e+08   \n",
       "\n",
       "               length_preparation  \n",
       "count                       23888  \n",
       "mean   51 days 08:11:53.730743469  \n",
       "min             -1 days +00:00:00  \n",
       "25%              10 days 00:00:00  \n",
       "50%              26 days 00:00:00  \n",
       "75%              67 days 00:00:00  \n",
       "max             604 days 00:00:00  \n",
       "std    65 days 18:56:19.491940518  "
      ]
     },
     "execution_count": 10,
     "metadata": {},
     "output_type": "execute_result"
    }
   ],
   "source": [
    "# Summary statistics for searches\n",
    "searches.describe()"
   ]
  },
  {
   "cell_type": "markdown",
   "id": "783e94a2-92b9-4cb9-b2b7-29febbf24279",
   "metadata": {},
   "source": [
    "### Most Popular Search Options for Number of Guests <a id='number-guests'></a>"
   ]
  },
  {
   "cell_type": "code",
   "execution_count": 11,
   "id": "4846e9b5-9d3c-40c7-b8fb-0eed811092ad",
   "metadata": {},
   "outputs": [
    {
     "data": {
      "image/png": "[encoded data removed]",
      "text/plain": [
       "<Figure size 500x500 with 1 Axes>"
      ]
     },
     "metadata": {},
     "output_type": "display_data"
    },
    {
     "data": {
      "image/png": "[encoded data removed]",
      "text/plain": [
       "<Figure size 500x500 with 1 Axes>"
      ]
     },
     "metadata": {},
     "output_type": "display_data"
    }
   ],
   "source": [
    "# Distribution plot of n_guests_min and n_guests_max\n",
    "_ = sns.displot(data=searches, x='n_guests_min')\n",
    "_ = sns.displot(data=searches, x='n_guests_max')"
   ]
  },
  {
   "cell_type": "markdown",
   "id": "410621e2-8050-4220-9068-f68ff90dacbf",
   "metadata": {},
   "source": [
    "- Both columns have similar distributions.\n",
    "- 1 guest is the most popular option, followed by 2 guests.\n",
    "- Smaller accommodations may be preferred."
   ]
  },
  {
   "cell_type": "markdown",
   "id": "a7985479-0daa-45bb-bc41-0ca9dd888535",
   "metadata": {},
   "source": [
    "### Time Range of Searches <a id='time-range-searches'></a>"
   ]
  },
  {
   "cell_type": "code",
   "execution_count": 12,
   "id": "73a31206-be2c-42ec-bd13-33fccc676383",
   "metadata": {},
   "outputs": [
    {
     "data": {
      "image/png": "[encoded data removed]",
      "text/plain": [
       "<Figure size 500x500 with 1 Axes>"
      ]
     },
     "metadata": {},
     "output_type": "display_data"
    }
   ],
   "source": [
    "# Time range of when searches were conducted\n",
    "ax = sns.displot(data=searches, x='ds')\n",
    "_ = [plt.setp(ax.get_xticklabels(), rotation=90) for ax in ax.axes.flat]"
   ]
  },
  {
   "cell_type": "markdown",
   "id": "f716b2ab-bf13-499e-8098-3d1b842bc44f",
   "metadata": {},
   "source": [
    "- All of the searches occurred between October 1 and October 13 in 2014.\n",
    "- There are no major variations in this distribution of search dates."
   ]
  },
  {
   "cell_type": "markdown",
   "id": "b8a23a2a-dff6-4262-9ca3-e907e265a257",
   "metadata": {},
   "source": [
    "### Maximum Price of Search Filter <a id='filter-price-max'></a>"
   ]
  },
  {
   "cell_type": "markdown",
   "id": "ef72eb7b-373c-4ba3-9423-ded4da680dcb",
   "metadata": {},
   "source": [
    "The `filter_price_max` feature will be used instead of `filter_price_min` because the minimum can be set to `$0`."
   ]
  },
  {
   "cell_type": "code",
   "execution_count": 13,
   "id": "72c5d9bb-3671-4620-8cc8-ec6875d34c45",
   "metadata": {},
   "outputs": [
    {
     "name": "stdout",
     "output_type": "stream",
     "text": [
      "5.311022189887232 %\n"
     ]
    }
   ],
   "source": [
    "# Percentage of dataset with filter_price_max above 600\n",
    "print(len(searches[searches['filter_price_max'] > 600]) / len(searches['filter_price_max']) * 100, '%')"
   ]
  },
  {
   "cell_type": "markdown",
   "id": "54c4de73-4442-448d-9b41-9b2b326cbbf3",
   "metadata": {},
   "source": [
    "The threshold of 600 will be used because a small percentage of the dataset has values greater than 600.\n",
    "\n",
    "To aid in visualizing the overall trend, the `filter_price_max` feature will be set to less than or equal to 600."
   ]
  },
  {
   "cell_type": "code",
   "execution_count": 14,
   "id": "55cb3988-7927-40ed-9b92-f35ff97a19e3",
   "metadata": {},
   "outputs": [
    {
     "data": {
      "image/png": "[encoded data removed]",
      "text/plain": [
       "<Figure size 500x500 with 1 Axes>"
      ]
     },
     "metadata": {},
     "output_type": "display_data"
    }
   ],
   "source": [
    "# Distribution plot of filter_price_max of searches with upper limit removed\n",
    "_ = sns.displot(x=searches[searches['filter_price_max'] <= 600]['filter_price_max'])"
   ]
  },
  {
   "cell_type": "markdown",
   "id": "3ba857d5-83dc-4bad-ab66-ed075603e7d3",
   "metadata": {},
   "source": [
    "### Length of Preparation <a id='length-preparation'></a>"
   ]
  },
  {
   "cell_type": "code",
   "execution_count": 15,
   "id": "bc95709f-4208-46f4-99e8-d3a3bdaf726d",
   "metadata": {},
   "outputs": [
    {
     "name": "stdout",
     "output_type": "stream",
     "text": [
      "9.396423874415872 %\n"
     ]
    }
   ],
   "source": [
    "# Percentage of dataset where length_preparation is over 100 days\n",
    "distribution = searches['length_preparation'] / np.timedelta64(1, 'D')\n",
    "print(len(distribution[distribution > 100]) / len(distribution) * 100, '%')"
   ]
  },
  {
   "cell_type": "code",
   "execution_count": 16,
   "id": "2b7db23a-4585-4697-96a8-7046c3ad44df",
   "metadata": {},
   "outputs": [
    {
     "data": {
      "image/png": "[encoded data removed]",
      "text/plain": [
       "<Figure size 500x500 with 1 Axes>"
      ]
     },
     "metadata": {},
     "output_type": "display_data"
    }
   ],
   "source": [
    "# Distribution plot of length_preparation with upper limit removed\n",
    "_ = sns.displot(x=distribution[distribution <= 100])"
   ]
  },
  {
   "cell_type": "markdown",
   "id": "5951ad2f-c912-4697-91d9-1cba90924263",
   "metadata": {},
   "source": [
    "### Most Popular Number of Nights Searched For <a id='number-nights'></a>"
   ]
  },
  {
   "cell_type": "code",
   "execution_count": 17,
   "id": "8f9508cb-0184-48af-b624-8ed1dad4d545",
   "metadata": {},
   "outputs": [
    {
     "name": "stdout",
     "output_type": "stream",
     "text": [
      "4.737387021854101 %\n"
     ]
    }
   ],
   "source": [
    "# Percentage of dataset where n_nights is over 20 nights\n",
    "print(len(searches[searches['n_nights'] > 20]) / len(searches['n_nights']) * 100, '%')"
   ]
  },
  {
   "cell_type": "code",
   "execution_count": 18,
   "id": "d4cb696a-8b33-499f-b5e7-282cd762035c",
   "metadata": {},
   "outputs": [
    {
     "data": {
      "image/png": "[encoded data removed]",
      "text/plain": [
       "<Figure size 500x500 with 1 Axes>"
      ]
     },
     "metadata": {},
     "output_type": "display_data"
    }
   ],
   "source": [
    "# Distribution plot of n_nights with upper limit removed\n",
    "_ = sns.displot(x=searches[searches['n_nights'] <= 20]['n_nights'])"
   ]
  },
  {
   "cell_type": "code",
   "execution_count": 19,
   "id": "330b5c7f-032e-4f1a-a27e-7f4a30333343",
   "metadata": {},
   "outputs": [
    {
     "data": {
      "text/plain": [
       "3.8049560711872044"
      ]
     },
     "execution_count": 19,
     "metadata": {},
     "output_type": "execute_result"
    }
   ],
   "source": [
    "# Mean number of nights, after removing upper limit\n",
    "searches[searches['n_nights'] <= 20]['n_nights'].mean()"
   ]
  },
  {
   "cell_type": "markdown",
   "id": "1365fd60-2353-4a30-899f-95e0cfc19ef0",
   "metadata": {},
   "source": [
    "### Most Popular Months of Check In <a id='checkin-months'></a>"
   ]
  },
  {
   "cell_type": "code",
   "execution_count": 20,
   "id": "d51c0c4c-3e85-49c9-b345-b3e6ab8590d7",
   "metadata": {},
   "outputs": [
    {
     "data": {
      "image/png": "[encoded data removed]",
      "text/plain": [
       "<Figure size 500x500 with 1 Axes>"
      ]
     },
     "metadata": {},
     "output_type": "display_data"
    }
   ],
   "source": [
    "# Distribution of months of ds_checkin\n",
    "_ = sns.displot(x=searches['ds_checkin'].dt.month)"
   ]
  },
  {
   "cell_type": "markdown",
   "id": "e6c2e5e9-4b68-4765-b383-6e0ed37ab082",
   "metadata": {},
   "source": [
    "### Most Popular Room Types <a id='room-types'></a>"
   ]
  },
  {
   "cell_type": "code",
   "execution_count": 21,
   "id": "34490417-5eac-44b2-abb7-d568d69df5aa",
   "metadata": {},
   "outputs": [
    {
     "data": {
      "text/plain": [
       "array([',Entire home/apt,Entire home/apt,Private room,Private room', nan,\n",
       "       ',Entire home/apt',\n",
       "       'Entire home/apt,Entire home/apt,Private room,Private room',\n",
       "       'Entire home/apt', ',Shared room,Private room',\n",
       "       'Entire home/apt,Private room,Shared room,Private room,Shared room',\n",
       "       'Private room', 'Entire home/apt,Private room', ',Private room',\n",
       "       ',Entire home/apt,Private room',\n",
       "       ',Entire home/apt,Private room,Private room',\n",
       "       'Entire home/apt,Private room,Shared room',\n",
       "       ',Entire home/apt,Entire home/apt,Private room',\n",
       "       ',Entire home/apt,Entire home/apt,Shared room,Shared room'],\n",
       "      dtype=object)"
      ]
     },
     "execution_count": 21,
     "metadata": {},
     "output_type": "execute_result"
    }
   ],
   "source": [
    "# Show first 15 unique values\n",
    "searches['filter_room_types'].unique()[0:15]"
   ]
  },
  {
   "cell_type": "markdown",
   "id": "5b3be3a2-6ef7-487d-a643-856f75116a2c",
   "metadata": {},
   "source": [
    "According to Airbnb, there are only 4 values in the type of place:\n",
    "\n",
    "- Entire home/apt\n",
    "- Private room\n",
    "- Shared room\n",
    "- Hotel room"
   ]
  },
  {
   "cell_type": "code",
   "execution_count": 22,
   "id": "cebd5f92-97b4-49d4-99d0-bf63b397b6fa",
   "metadata": {},
   "outputs": [],
   "source": [
    "# Define valid values\n",
    "valid_values = ['Entire home/apt', 'Private room', 'Shared room', 'Hotel room']"
   ]
  },
  {
   "cell_type": "code",
   "execution_count": 23,
   "id": "5df500ad-4d77-4ae9-94c0-06a3e40cecdd",
   "metadata": {},
   "outputs": [],
   "source": [
    "# Function to find most frequent valid value in a string\n",
    "def most_frequent_valid_value(s):\n",
    "    \"\"\"\n",
    "    Return the valid value with the highest count in a string.\n",
    "    \"\"\"\n",
    "    # Check for NaN values because `count` method is not applicable to float objects\n",
    "    if pd.isna(s):\n",
    "        return np.nan\n",
    "\n",
    "    # Count occurrences using list comprehension\n",
    "    occurrences = [s.count(value) for value in valid_values]\n",
    "    \n",
    "    # Find the most frequent valid value\n",
    "    max_index = occurrences.index(max(occurrences))\n",
    "    \n",
    "    return valid_values[max_index]"
   ]
  },
  {
   "cell_type": "code",
   "execution_count": 24,
   "id": "dbca283c-5587-4a04-a4da-7e646d976c3c",
   "metadata": {},
   "outputs": [],
   "source": [
    "# Clean column and keep most frequent valid value\n",
    "searches['filter_room_types'] = searches['filter_room_types'].apply(most_frequent_valid_value)"
   ]
  },
  {
   "cell_type": "code",
   "execution_count": 25,
   "id": "4c80d96a-8948-414c-ac4a-0b0aa6ae3271",
   "metadata": {},
   "outputs": [
    {
     "data": {
      "image/png": "[encoded data removed]",
      "text/plain": [
       "<Figure size 500x500 with 1 Axes>"
      ]
     },
     "metadata": {},
     "output_type": "display_data"
    }
   ],
   "source": [
    "# Distribution of filter_room_types_cleaned\n",
    "_ = sns.displot(x=searches['filter_room_types'])"
   ]
  },
  {
   "cell_type": "markdown",
   "id": "00cd956b-46c1-4970-a2ad-ccde680429ea",
   "metadata": {},
   "source": [
    "- The most requested room type was 'Entire home/apt'.\n",
    "- The second most requested room type was 'Private room'."
   ]
  },
  {
   "cell_type": "markdown",
   "id": "e3752df2-4ba7-4cbd-96ae-2a5b275aac31",
   "metadata": {},
   "source": [
    "### Top Countries for Search Origins <a id='countries-search'></a>"
   ]
  },
  {
   "cell_type": "code",
   "execution_count": 26,
   "id": "65e38b8f-5395-4a51-8a52-fd6d1ebbb949",
   "metadata": {},
   "outputs": [
    {
     "data": {
      "text/html": [
       "<div>\n",
       "<style scoped>\n",
       "    .dataframe tbody tr th:only-of-type {\n",
       "        vertical-align: middle;\n",
       "    }\n",
       "\n",
       "    .dataframe tbody tr th {\n",
       "        vertical-align: top;\n",
       "    }\n",
       "\n",
       "    .dataframe thead th {\n",
       "        text-align: right;\n",
       "    }\n",
       "</style>\n",
       "<table border=\"1\" class=\"dataframe\">\n",
       "  <thead>\n",
       "    <tr style=\"text-align: right;\">\n",
       "      <th></th>\n",
       "      <th>count</th>\n",
       "    </tr>\n",
       "    <tr>\n",
       "      <th>origin_country</th>\n",
       "      <th></th>\n",
       "    </tr>\n",
       "  </thead>\n",
       "  <tbody>\n",
       "    <tr>\n",
       "      <th>IE</th>\n",
       "      <td>6608</td>\n",
       "    </tr>\n",
       "    <tr>\n",
       "      <th>US</th>\n",
       "      <td>5811</td>\n",
       "    </tr>\n",
       "    <tr>\n",
       "      <th>GB</th>\n",
       "      <td>4832</td>\n",
       "    </tr>\n",
       "    <tr>\n",
       "      <th>FR</th>\n",
       "      <td>3444</td>\n",
       "    </tr>\n",
       "    <tr>\n",
       "      <th>IT</th>\n",
       "      <td>2333</td>\n",
       "    </tr>\n",
       "    <tr>\n",
       "      <th>DE</th>\n",
       "      <td>2170</td>\n",
       "    </tr>\n",
       "    <tr>\n",
       "      <th>ES</th>\n",
       "      <td>1759</td>\n",
       "    </tr>\n",
       "    <tr>\n",
       "      <th>CA</th>\n",
       "      <td>1085</td>\n",
       "    </tr>\n",
       "    <tr>\n",
       "      <th>AU</th>\n",
       "      <td>962</td>\n",
       "    </tr>\n",
       "    <tr>\n",
       "      <th>NL</th>\n",
       "      <td>843</td>\n",
       "    </tr>\n",
       "    <tr>\n",
       "      <th>BR</th>\n",
       "      <td>636</td>\n",
       "    </tr>\n",
       "    <tr>\n",
       "      <th>CH</th>\n",
       "      <td>535</td>\n",
       "    </tr>\n",
       "    <tr>\n",
       "      <th>BE</th>\n",
       "      <td>386</td>\n",
       "    </tr>\n",
       "    <tr>\n",
       "      <th>AT</th>\n",
       "      <td>320</td>\n",
       "    </tr>\n",
       "    <tr>\n",
       "      <th>RU</th>\n",
       "      <td>274</td>\n",
       "    </tr>\n",
       "  </tbody>\n",
       "</table>\n",
       "</div>"
      ],
      "text/plain": [
       "                count\n",
       "origin_country       \n",
       "IE               6608\n",
       "US               5811\n",
       "GB               4832\n",
       "FR               3444\n",
       "IT               2333\n",
       "DE               2170\n",
       "ES               1759\n",
       "CA               1085\n",
       "AU                962\n",
       "NL                843\n",
       "BR                636\n",
       "CH                535\n",
       "BE                386\n",
       "AT                320\n",
       "RU                274"
      ]
     },
     "execution_count": 26,
     "metadata": {},
     "output_type": "execute_result"
    }
   ],
   "source": [
    "# Find top 15 countries where searches originate from\n",
    "search_origin = searches.groupby(by='origin_country').agg(count=('origin_country', 'count')).nlargest(n=15, columns='count')\n",
    "search_origin"
   ]
  },
  {
   "cell_type": "code",
   "execution_count": 27,
   "id": "9133a588-8ff0-4ea8-b481-0bc8332b1876",
   "metadata": {},
   "outputs": [
    {
     "data": {
      "image/png": "[encoded data removed]",
      "text/plain": [
       "<Figure size 640x480 with 1 Axes>"
      ]
     },
     "metadata": {},
     "output_type": "display_data"
    }
   ],
   "source": [
    "# Bar plot of top 15 countries of origin for searches\n",
    "_ = sns.barplot(data=search_origin, x='origin_country', y='count')"
   ]
  },
  {
   "cell_type": "markdown",
   "id": "169be736-a6fd-4e2d-bcb2-a9934f137cf9",
   "metadata": {},
   "source": [
    "- Most of the searches originated from Ireland (IE), the United States (US), and the United Kingdom (UK / GB)."
   ]
  },
  {
   "cell_type": "markdown",
   "id": "62c63082-72c1-4eec-b4d8-e92c3456b585",
   "metadata": {},
   "source": [
    " ## `contacts` Dataset <a id='contacts-data'></a>"
   ]
  },
  {
   "cell_type": "code",
   "execution_count": 28,
   "id": "fc903fd5-e45b-4c42-b9a7-d7d8bbe43b78",
   "metadata": {},
   "outputs": [
    {
     "name": "stdout",
     "output_type": "stream",
     "text": [
      "<class 'pandas.core.frame.DataFrame'>\n",
      "RangeIndex: 7823 entries, 0 to 7822\n",
      "Data columns (total 11 columns):\n",
      " #   Column          Non-Null Count  Dtype \n",
      "---  ------          --------------  ----- \n",
      " 0   id_guest        7823 non-null   object\n",
      " 1   id_host         7823 non-null   object\n",
      " 2   id_listing      7823 non-null   object\n",
      " 3   ts_contact_at   7823 non-null   object\n",
      " 4   ts_reply_at     7219 non-null   object\n",
      " 5   ts_accepted_at  3627 non-null   object\n",
      " 6   ts_booking_at   2174 non-null   object\n",
      " 7   ds_checkin      7823 non-null   object\n",
      " 8   ds_checkout     7823 non-null   object\n",
      " 9   n_guests        7823 non-null   int64 \n",
      " 10  n_messages      7823 non-null   int64 \n",
      "dtypes: int64(2), object(9)\n",
      "memory usage: 672.4+ KB\n"
     ]
    }
   ],
   "source": [
    "# Information on contacts DataFrame\n",
    "contacts.info()"
   ]
  },
  {
   "cell_type": "code",
   "execution_count": 29,
   "id": "3235cb30-f0fb-412a-9147-dbda3d97e828",
   "metadata": {},
   "outputs": [
    {
     "name": "stdout",
     "output_type": "stream",
     "text": [
      "Percentage of null values in contacts data:\n",
      "id_guest          0.000000\n",
      "id_host           0.000000\n",
      "id_listing        0.000000\n",
      "ts_contact_at     0.000000\n",
      "ts_reply_at       0.077208\n",
      "ts_accepted_at    0.536367\n",
      "ts_booking_at     0.722101\n",
      "ds_checkin        0.000000\n",
      "ds_checkout       0.000000\n",
      "n_guests          0.000000\n",
      "n_messages        0.000000\n",
      "dtype: float64\n",
      "\n"
     ]
    }
   ],
   "source": [
    "# Find percentage of null values in data\n",
    "print(f'Percentage of null values in contacts data:\\n{contacts.isna().sum()/len(contacts)}\\n')"
   ]
  },
  {
   "cell_type": "code",
   "execution_count": 30,
   "id": "14a929ed-2800-4e5e-a5c6-d543db4e862c",
   "metadata": {},
   "outputs": [
    {
     "data": {
      "text/html": [
       "<div>\n",
       "<style scoped>\n",
       "    .dataframe tbody tr th:only-of-type {\n",
       "        vertical-align: middle;\n",
       "    }\n",
       "\n",
       "    .dataframe tbody tr th {\n",
       "        vertical-align: top;\n",
       "    }\n",
       "\n",
       "    .dataframe thead th {\n",
       "        text-align: right;\n",
       "    }\n",
       "</style>\n",
       "<table border=\"1\" class=\"dataframe\">\n",
       "  <thead>\n",
       "    <tr style=\"text-align: right;\">\n",
       "      <th></th>\n",
       "      <th>id_guest</th>\n",
       "      <th>id_host</th>\n",
       "      <th>id_listing</th>\n",
       "      <th>ts_contact_at</th>\n",
       "      <th>ts_reply_at</th>\n",
       "      <th>ts_accepted_at</th>\n",
       "      <th>ts_booking_at</th>\n",
       "      <th>ds_checkin</th>\n",
       "      <th>ds_checkout</th>\n",
       "      <th>n_guests</th>\n",
       "      <th>n_messages</th>\n",
       "    </tr>\n",
       "  </thead>\n",
       "  <tbody>\n",
       "    <tr>\n",
       "      <th>0</th>\n",
       "      <td>000dfad9-459b-4f0b-8310-3d6ab34e4f57</td>\n",
       "      <td>13bb24b8-d432-43a2-9755-5ea11b43bb69</td>\n",
       "      <td>21d2b1a2-fdc3-4b4c-a1f0-0eaf0cc02370</td>\n",
       "      <td>2014-10-04 16:26:28.0</td>\n",
       "      <td>2014-10-04 16:26:28.0</td>\n",
       "      <td>2014-10-04 16:26:28.0</td>\n",
       "      <td>2014-10-04 16:26:28.0</td>\n",
       "      <td>2014-10-13</td>\n",
       "      <td>2014-10-15</td>\n",
       "      <td>2</td>\n",
       "      <td>13</td>\n",
       "    </tr>\n",
       "    <tr>\n",
       "      <th>1</th>\n",
       "      <td>00197051-c6cb-4c3a-99e9-86615b819874</td>\n",
       "      <td>46aa3897-9c00-4d76-ac66-a307593d0675</td>\n",
       "      <td>fb5ed09a-9848-4f2c-b2ef-34deb62164fb</td>\n",
       "      <td>2014-11-04 09:10:03.0</td>\n",
       "      <td>2014-11-04 09:45:50.0</td>\n",
       "      <td>2014-11-04 09:45:50.0</td>\n",
       "      <td>2014-11-04 12:20:46.0</td>\n",
       "      <td>2014-11-27</td>\n",
       "      <td>2014-11-30</td>\n",
       "      <td>1</td>\n",
       "      <td>10</td>\n",
       "    </tr>\n",
       "    <tr>\n",
       "      <th>2</th>\n",
       "      <td>0027538e-aa9e-4a02-8979-b8397e5d4cba</td>\n",
       "      <td>6bbb88ca-db66-48c5-9c4b-862f7706284a</td>\n",
       "      <td>d3871da6-8012-4dc4-b508-c91f2c10c297</td>\n",
       "      <td>2014-10-10 12:02:50.0</td>\n",
       "      <td>2014-10-10 15:07:01.0</td>\n",
       "      <td>NaN</td>\n",
       "      <td>NaN</td>\n",
       "      <td>2014-10-17</td>\n",
       "      <td>2014-10-19</td>\n",
       "      <td>2</td>\n",
       "      <td>3</td>\n",
       "    </tr>\n",
       "    <tr>\n",
       "      <th>3</th>\n",
       "      <td>0027538e-aa9e-4a02-8979-b8397e5d4cba</td>\n",
       "      <td>8772bc85-a9b7-4d85-a52d-41f3620c2912</td>\n",
       "      <td>0d9b5583-8053-4b67-adfe-8c29eb12efed</td>\n",
       "      <td>2014-10-10 15:23:53.0</td>\n",
       "      <td>NaN</td>\n",
       "      <td>NaN</td>\n",
       "      <td>NaN</td>\n",
       "      <td>2014-10-17</td>\n",
       "      <td>2014-10-19</td>\n",
       "      <td>2</td>\n",
       "      <td>2</td>\n",
       "    </tr>\n",
       "    <tr>\n",
       "      <th>4</th>\n",
       "      <td>0027538e-aa9e-4a02-8979-b8397e5d4cba</td>\n",
       "      <td>ac162061-55e2-4072-ac91-2e080f9581f2</td>\n",
       "      <td>ec68e0af-b0f2-42c7-b6f8-d41061c083ff</td>\n",
       "      <td>2014-10-10 15:22:26.0</td>\n",
       "      <td>2014-10-10 15:24:26.0</td>\n",
       "      <td>2014-10-10 15:24:26.0</td>\n",
       "      <td>2014-10-10 15:52:42.0</td>\n",
       "      <td>2014-10-17</td>\n",
       "      <td>2014-10-19</td>\n",
       "      <td>2</td>\n",
       "      <td>14</td>\n",
       "    </tr>\n",
       "  </tbody>\n",
       "</table>\n",
       "</div>"
      ],
      "text/plain": [
       "                               id_guest                               id_host  \\\n",
       "0  000dfad9-459b-4f0b-8310-3d6ab34e4f57  13bb24b8-d432-43a2-9755-5ea11b43bb69   \n",
       "1  00197051-c6cb-4c3a-99e9-86615b819874  46aa3897-9c00-4d76-ac66-a307593d0675   \n",
       "2  0027538e-aa9e-4a02-8979-b8397e5d4cba  6bbb88ca-db66-48c5-9c4b-862f7706284a   \n",
       "3  0027538e-aa9e-4a02-8979-b8397e5d4cba  8772bc85-a9b7-4d85-a52d-41f3620c2912   \n",
       "4  0027538e-aa9e-4a02-8979-b8397e5d4cba  ac162061-55e2-4072-ac91-2e080f9581f2   \n",
       "\n",
       "                             id_listing          ts_contact_at  \\\n",
       "0  21d2b1a2-fdc3-4b4c-a1f0-0eaf0cc02370  2014-10-04 16:26:28.0   \n",
       "1  fb5ed09a-9848-4f2c-b2ef-34deb62164fb  2014-11-04 09:10:03.0   \n",
       "2  d3871da6-8012-4dc4-b508-c91f2c10c297  2014-10-10 12:02:50.0   \n",
       "3  0d9b5583-8053-4b67-adfe-8c29eb12efed  2014-10-10 15:23:53.0   \n",
       "4  ec68e0af-b0f2-42c7-b6f8-d41061c083ff  2014-10-10 15:22:26.0   \n",
       "\n",
       "             ts_reply_at         ts_accepted_at          ts_booking_at  \\\n",
       "0  2014-10-04 16:26:28.0  2014-10-04 16:26:28.0  2014-10-04 16:26:28.0   \n",
       "1  2014-11-04 09:45:50.0  2014-11-04 09:45:50.0  2014-11-04 12:20:46.0   \n",
       "2  2014-10-10 15:07:01.0                    NaN                    NaN   \n",
       "3                    NaN                    NaN                    NaN   \n",
       "4  2014-10-10 15:24:26.0  2014-10-10 15:24:26.0  2014-10-10 15:52:42.0   \n",
       "\n",
       "   ds_checkin ds_checkout  n_guests  n_messages  \n",
       "0  2014-10-13  2014-10-15         2          13  \n",
       "1  2014-11-27  2014-11-30         1          10  \n",
       "2  2014-10-17  2014-10-19         2           3  \n",
       "3  2014-10-17  2014-10-19         2           2  \n",
       "4  2014-10-17  2014-10-19         2          14  "
      ]
     },
     "execution_count": 30,
     "metadata": {},
     "output_type": "execute_result"
    }
   ],
   "source": [
    "# Show first 5 rows of contacts\n",
    "contacts.head()"
   ]
  },
  {
   "cell_type": "code",
   "execution_count": 31,
   "id": "daea8315-816e-4010-aa42-bedc4f1b1160",
   "metadata": {},
   "outputs": [],
   "source": [
    "# Convert date columns to datetime data type\n",
    "contacts['ts_contact_at'] = pd.to_datetime(contacts['ts_contact_at'])\n",
    "contacts['ts_reply_at'] = pd.to_datetime(contacts['ts_reply_at'])\n",
    "contacts['ts_accepted_at'] = pd.to_datetime(contacts['ts_accepted_at'])\n",
    "contacts['ts_booking_at'] = pd.to_datetime(contacts['ts_booking_at'])\n",
    "contacts['ds_checkin'] = pd.to_datetime(contacts['ds_checkin'])\n",
    "contacts['ds_checkout'] = pd.to_datetime(contacts['ds_checkout'])"
   ]
  },
  {
   "cell_type": "code",
   "execution_count": 32,
   "id": "71e306c8-effc-4588-8b4d-4137ff604c69",
   "metadata": {},
   "outputs": [],
   "source": [
    "# Create new features\n",
    "contacts['accepted'] = pd.notna(contacts['ts_accepted_at'])\n",
    "contacts['length_stay'] = contacts['ds_checkout'] - contacts['ds_checkin']"
   ]
  },
  {
   "cell_type": "code",
   "execution_count": 33,
   "id": "ed1f292d-13a6-4e78-99df-de32d97276f0",
   "metadata": {},
   "outputs": [
    {
     "data": {
      "text/plain": [
       "id_guest                   object\n",
       "id_host                    object\n",
       "id_listing                 object\n",
       "ts_contact_at      datetime64[ns]\n",
       "ts_reply_at        datetime64[ns]\n",
       "ts_accepted_at     datetime64[ns]\n",
       "ts_booking_at      datetime64[ns]\n",
       "ds_checkin         datetime64[ns]\n",
       "ds_checkout        datetime64[ns]\n",
       "n_guests                    int64\n",
       "n_messages                  int64\n",
       "accepted                     bool\n",
       "length_stay       timedelta64[ns]\n",
       "dtype: object"
      ]
     },
     "execution_count": 33,
     "metadata": {},
     "output_type": "execute_result"
    }
   ],
   "source": [
    "# Check data types\n",
    "contacts.dtypes"
   ]
  },
  {
   "cell_type": "code",
   "execution_count": 34,
   "id": "1d99cf44-e9dd-49b2-ac5d-2e3f25ce249f",
   "metadata": {},
   "outputs": [
    {
     "data": {
      "text/html": [
       "<div>\n",
       "<style scoped>\n",
       "    .dataframe tbody tr th:only-of-type {\n",
       "        vertical-align: middle;\n",
       "    }\n",
       "\n",
       "    .dataframe tbody tr th {\n",
       "        vertical-align: top;\n",
       "    }\n",
       "\n",
       "    .dataframe thead th {\n",
       "        text-align: right;\n",
       "    }\n",
       "</style>\n",
       "<table border=\"1\" class=\"dataframe\">\n",
       "  <thead>\n",
       "    <tr style=\"text-align: right;\">\n",
       "      <th></th>\n",
       "      <th>ts_contact_at</th>\n",
       "      <th>ts_reply_at</th>\n",
       "      <th>ts_accepted_at</th>\n",
       "      <th>ts_booking_at</th>\n",
       "      <th>ds_checkin</th>\n",
       "      <th>ds_checkout</th>\n",
       "      <th>n_guests</th>\n",
       "      <th>n_messages</th>\n",
       "      <th>length_stay</th>\n",
       "    </tr>\n",
       "  </thead>\n",
       "  <tbody>\n",
       "    <tr>\n",
       "      <th>count</th>\n",
       "      <td>7823</td>\n",
       "      <td>7219</td>\n",
       "      <td>3627</td>\n",
       "      <td>2174</td>\n",
       "      <td>7823</td>\n",
       "      <td>7823</td>\n",
       "      <td>7823.000000</td>\n",
       "      <td>7823.000000</td>\n",
       "      <td>7823</td>\n",
       "    </tr>\n",
       "    <tr>\n",
       "      <th>mean</th>\n",
       "      <td>2014-10-10 11:59:33.640802816</td>\n",
       "      <td>2014-10-10 22:42:36.511982336</td>\n",
       "      <td>2014-10-11 14:07:07.993382912</td>\n",
       "      <td>2014-10-13 07:54:43.307267840</td>\n",
       "      <td>2014-11-16 09:47:00.452511744</td>\n",
       "      <td>2014-11-22 05:12:33.317141760</td>\n",
       "      <td>2.422600</td>\n",
       "      <td>6.319954</td>\n",
       "      <td>5 days 19:25:32.864629937</td>\n",
       "    </tr>\n",
       "    <tr>\n",
       "      <th>min</th>\n",
       "      <td>2014-03-04 11:08:13</td>\n",
       "      <td>2014-04-18 09:39:06</td>\n",
       "      <td>2014-05-21 16:51:54</td>\n",
       "      <td>2014-05-21 16:51:54</td>\n",
       "      <td>2014-10-01 00:00:00</td>\n",
       "      <td>2014-10-02 00:00:00</td>\n",
       "      <td>1.000000</td>\n",
       "      <td>1.000000</td>\n",
       "      <td>1 days 00:00:00</td>\n",
       "    </tr>\n",
       "    <tr>\n",
       "      <th>25%</th>\n",
       "      <td>2014-10-03 16:28:52</td>\n",
       "      <td>2014-10-03 23:07:32</td>\n",
       "      <td>2014-10-04 13:45:13</td>\n",
       "      <td>2014-10-05 13:53:46</td>\n",
       "      <td>2014-10-15 00:00:00</td>\n",
       "      <td>2014-10-19 00:00:00</td>\n",
       "      <td>1.000000</td>\n",
       "      <td>2.000000</td>\n",
       "      <td>2 days 00:00:00</td>\n",
       "    </tr>\n",
       "    <tr>\n",
       "      <th>50%</th>\n",
       "      <td>2014-10-08 17:34:36</td>\n",
       "      <td>2014-10-09 00:16:21</td>\n",
       "      <td>2014-10-09 13:46:50</td>\n",
       "      <td>2014-10-10 11:15:13</td>\n",
       "      <td>2014-10-31 00:00:00</td>\n",
       "      <td>2014-11-06 00:00:00</td>\n",
       "      <td>2.000000</td>\n",
       "      <td>4.000000</td>\n",
       "      <td>3 days 00:00:00</td>\n",
       "    </tr>\n",
       "    <tr>\n",
       "      <th>75%</th>\n",
       "      <td>2014-10-13 21:28:51.500000</td>\n",
       "      <td>2014-10-14 10:00:04.500000</td>\n",
       "      <td>2014-10-14 16:28:27.500000</td>\n",
       "      <td>2014-10-15 13:16:17.249999872</td>\n",
       "      <td>2014-11-22 00:00:00</td>\n",
       "      <td>2014-11-30 00:00:00</td>\n",
       "      <td>3.000000</td>\n",
       "      <td>8.000000</td>\n",
       "      <td>5 days 00:00:00</td>\n",
       "    </tr>\n",
       "    <tr>\n",
       "      <th>max</th>\n",
       "      <td>2015-02-02 08:45:18</td>\n",
       "      <td>2015-02-02 23:18:25</td>\n",
       "      <td>2015-02-03 14:16:42</td>\n",
       "      <td>2015-01-21 16:16:29</td>\n",
       "      <td>2015-10-24 00:00:00</td>\n",
       "      <td>2015-12-01 00:00:00</td>\n",
       "      <td>16.000000</td>\n",
       "      <td>102.000000</td>\n",
       "      <td>334 days 00:00:00</td>\n",
       "    </tr>\n",
       "    <tr>\n",
       "      <th>std</th>\n",
       "      <td>NaN</td>\n",
       "      <td>NaN</td>\n",
       "      <td>NaN</td>\n",
       "      <td>NaN</td>\n",
       "      <td>NaN</td>\n",
       "      <td>NaN</td>\n",
       "      <td>1.617347</td>\n",
       "      <td>6.472827</td>\n",
       "      <td>14 days 23:45:24.447710564</td>\n",
       "    </tr>\n",
       "  </tbody>\n",
       "</table>\n",
       "</div>"
      ],
      "text/plain": [
       "                       ts_contact_at                    ts_reply_at  \\\n",
       "count                           7823                           7219   \n",
       "mean   2014-10-10 11:59:33.640802816  2014-10-10 22:42:36.511982336   \n",
       "min              2014-03-04 11:08:13            2014-04-18 09:39:06   \n",
       "25%              2014-10-03 16:28:52            2014-10-03 23:07:32   \n",
       "50%              2014-10-08 17:34:36            2014-10-09 00:16:21   \n",
       "75%       2014-10-13 21:28:51.500000     2014-10-14 10:00:04.500000   \n",
       "max              2015-02-02 08:45:18            2015-02-02 23:18:25   \n",
       "std                              NaN                            NaN   \n",
       "\n",
       "                      ts_accepted_at                  ts_booking_at  \\\n",
       "count                           3627                           2174   \n",
       "mean   2014-10-11 14:07:07.993382912  2014-10-13 07:54:43.307267840   \n",
       "min              2014-05-21 16:51:54            2014-05-21 16:51:54   \n",
       "25%              2014-10-04 13:45:13            2014-10-05 13:53:46   \n",
       "50%              2014-10-09 13:46:50            2014-10-10 11:15:13   \n",
       "75%       2014-10-14 16:28:27.500000  2014-10-15 13:16:17.249999872   \n",
       "max              2015-02-03 14:16:42            2015-01-21 16:16:29   \n",
       "std                              NaN                            NaN   \n",
       "\n",
       "                          ds_checkin                    ds_checkout  \\\n",
       "count                           7823                           7823   \n",
       "mean   2014-11-16 09:47:00.452511744  2014-11-22 05:12:33.317141760   \n",
       "min              2014-10-01 00:00:00            2014-10-02 00:00:00   \n",
       "25%              2014-10-15 00:00:00            2014-10-19 00:00:00   \n",
       "50%              2014-10-31 00:00:00            2014-11-06 00:00:00   \n",
       "75%              2014-11-22 00:00:00            2014-11-30 00:00:00   \n",
       "max              2015-10-24 00:00:00            2015-12-01 00:00:00   \n",
       "std                              NaN                            NaN   \n",
       "\n",
       "          n_guests   n_messages                 length_stay  \n",
       "count  7823.000000  7823.000000                        7823  \n",
       "mean      2.422600     6.319954   5 days 19:25:32.864629937  \n",
       "min       1.000000     1.000000             1 days 00:00:00  \n",
       "25%       1.000000     2.000000             2 days 00:00:00  \n",
       "50%       2.000000     4.000000             3 days 00:00:00  \n",
       "75%       3.000000     8.000000             5 days 00:00:00  \n",
       "max      16.000000   102.000000           334 days 00:00:00  \n",
       "std       1.617347     6.472827  14 days 23:45:24.447710564  "
      ]
     },
     "execution_count": 34,
     "metadata": {},
     "output_type": "execute_result"
    }
   ],
   "source": [
    "# Summary statistics\n",
    "contacts.describe()"
   ]
  },
  {
   "cell_type": "code",
   "execution_count": 35,
   "id": "81ffee67-b6f5-44b1-a081-8ca89e866276",
   "metadata": {},
   "outputs": [
    {
     "data": {
      "text/plain": [
       "n_guests      2.441468\n",
       "n_messages    3.696440\n",
       "accepted      0.145883\n",
       "dtype: float64"
      ]
     },
     "execution_count": 35,
     "metadata": {},
     "output_type": "execute_result"
    }
   ],
   "source": [
    "# Calculate skewness in contacts data\n",
    "contacts.skew(axis=0, numeric_only=True, skipna=True)"
   ]
  },
  {
   "cell_type": "markdown",
   "id": "af463049-7454-41ef-830e-a49caad191ac",
   "metadata": {},
   "source": [
    "- The `n_guests` and `n_messages` columns have a Pearson coefficient value greater than 1.\n",
    "- The `accepted` column has a Pearson coefficient value less than 1, which may be due to being derived from an existing column.\n",
    "\n",
    "In the next section, the Box-Cox transformation method will be used to reduce skewness for the `n_guests` and `n_messages` features in a merged dataset containing `searches` and `contacts` data."
   ]
  },
  {
   "cell_type": "markdown",
   "id": "b65ca4dd-ccab-4470-b0d6-f5c978af1574",
   "metadata": {},
   "source": [
    "### Number of Guests who Stayed <a id='guests-stayed'></a>"
   ]
  },
  {
   "cell_type": "code",
   "execution_count": 36,
   "id": "0b11d740-f71e-40a9-8cfe-eca05a5e6447",
   "metadata": {},
   "outputs": [
    {
     "data": {
      "text/plain": [
       "n_guests\n",
       "2     44.254122\n",
       "1     27.022881\n",
       "4     11.121053\n",
       "3      8.947974\n",
       "6      3.502493\n",
       "5      2.901700\n",
       "7      0.792535\n",
       "8      0.703055\n",
       "10     0.306788\n",
       "12     0.191742\n",
       "16     0.063914\n",
       "11     0.063914\n",
       "15     0.051131\n",
       "13     0.038348\n",
       "9      0.038348\n",
       "Name: count, dtype: float64"
      ]
     },
     "execution_count": 36,
     "metadata": {},
     "output_type": "execute_result"
    }
   ],
   "source": [
    "# Find percentages of contacts dataset for n_guests\n",
    "((contacts['n_guests'].value_counts()) / len(contacts)) * 100"
   ]
  },
  {
   "cell_type": "markdown",
   "id": "c2584bc5-4235-4f65-a5e4-c8f3c0323f98",
   "metadata": {},
   "source": [
    "Most of the data is represented by less than 8 guests so to better visualize the majority distribution, rows with 8 or more guests will be removed."
   ]
  },
  {
   "cell_type": "code",
   "execution_count": 37,
   "id": "f5bba5d0-deb8-4cbd-a38d-f6f26ab81eda",
   "metadata": {},
   "outputs": [
    {
     "data": {
      "image/png": "[encoded data removed]",
      "text/plain": [
       "<Figure size 584.875x500 with 1 Axes>"
      ]
     },
     "metadata": {},
     "output_type": "display_data"
    }
   ],
   "source": [
    "# Number of guests who stayed with upper limit removed\n",
    "_ = sns.displot(data=contacts[contacts['n_guests'] < 8], x='n_guests', hue='accepted', multiple='dodge')"
   ]
  },
  {
   "cell_type": "markdown",
   "id": "29e7f8c8-ed19-45df-bd44-ef790e9ef1c7",
   "metadata": {},
   "source": [
    "- The most popular booking option is for 2 guests.\n",
    "- However, as per the plots in the previous section, the most popularly searched option is for 1 guest.\n",
    "- This may indicate a lack of supply of rooms for 1 guest."
   ]
  },
  {
   "cell_type": "markdown",
   "id": "836ef1cf-7fd3-4f46-95e7-832efbae9c04",
   "metadata": {},
   "source": [
    "### Conversion Rate from Accepting to Booking <a id='conversion-rate'></a>"
   ]
  },
  {
   "cell_type": "code",
   "execution_count": 38,
   "id": "f2f3c30e-65d3-4e53-a0a3-ad1afb0a185b",
   "metadata": {},
   "outputs": [
    {
     "name": "stdout",
     "output_type": "stream",
     "text": [
      "Conversion rate from accepting to booking: 59.93934381031155%.\n"
     ]
    }
   ],
   "source": [
    "# Conversion rate from accepting to booking\n",
    "print(f'Conversion rate from accepting to booking: {contacts.ts_booking_at.count() / contacts.ts_accepted_at.count() * 100}%.')"
   ]
  },
  {
   "cell_type": "markdown",
   "id": "65df3a4c-ef50-45fc-b34e-a975f415351a",
   "metadata": {},
   "source": [
    "### Time Range of Guests Acceptance or Rejection <a id='time-acceptance'></a>"
   ]
  },
  {
   "cell_type": "code",
   "execution_count": 39,
   "id": "917f6f73-5f1c-4059-a009-1fa0d9e59285",
   "metadata": {},
   "outputs": [],
   "source": [
    "# Get month from check in date\n",
    "contacts['ds_checkin_month'] = contacts['ds_checkin'].dt.month"
   ]
  },
  {
   "cell_type": "code",
   "execution_count": 40,
   "id": "ffd13f18-8aee-47cb-a997-f320c1287939",
   "metadata": {},
   "outputs": [
    {
     "data": {
      "image/png": "[encoded data removed]",
      "text/plain": [
       "<Figure size 500x500 with 1 Axes>"
      ]
     },
     "metadata": {},
     "output_type": "display_data"
    }
   ],
   "source": [
    "# Distribution plot of check in dates\n",
    "_ = sns.displot(data=contacts, x='ds_checkin_month')"
   ]
  },
  {
   "cell_type": "markdown",
   "id": "b518a819-6562-4df7-952f-c4410a5ba41d",
   "metadata": {},
   "source": [
    "- The peak season months were October, November, and December."
   ]
  },
  {
   "cell_type": "code",
   "execution_count": 41,
   "id": "f2266e1e-277a-4656-a471-2dc3d0f381f5",
   "metadata": {},
   "outputs": [
    {
     "data": {
      "image/png": "[encoded data removed]",
      "text/plain": [
       "<Figure size 584.875x500 with 1 Axes>"
      ]
     },
     "metadata": {},
     "output_type": "display_data"
    }
   ],
   "source": [
    "# Distribution plot of check in dates by acceptance during peak season\n",
    "sns.displot(data = contacts[contacts['ds_checkin_month'] > 9], x='ds_checkin_month', hue='accepted', multiple='dodge')\n",
    "plt.xticks(ticks=[10, 11, 12])\n",
    "plt.show()"
   ]
  },
  {
   "cell_type": "markdown",
   "id": "5b593e88-96c6-4f57-bf44-45e73c8c7223",
   "metadata": {},
   "source": [
    "- October was the most popular month for guest check ins.\n",
    "- In October and December, there were more guests rejected than accepted.\n",
    "- In November, there were more guests accepted than rejected."
   ]
  },
  {
   "cell_type": "markdown",
   "id": "026e2f3d-4c3f-4710-aa61-d45cb55ae60d",
   "metadata": {},
   "source": [
    "## Merged Dataset <a id='merged-data'></a>"
   ]
  },
  {
   "cell_type": "code",
   "execution_count": 42,
   "id": "907e281e-8cbd-4e70-814e-9c716f6fd549",
   "metadata": {},
   "outputs": [],
   "source": [
    "# Merge datasets for more analysis\n",
    "merged_df = contacts.merge(right=searches, how='inner', left_on='id_guest', right_on='id_user')"
   ]
  },
  {
   "cell_type": "markdown",
   "id": "6534a40b-7f32-4a6f-b840-48042535333d",
   "metadata": {},
   "source": [
    "### Difference in Prices Searched between Accepted and Rejected Applicants <a id='diff-price-acceptance'></a>"
   ]
  },
  {
   "cell_type": "code",
   "execution_count": 43,
   "id": "5d63e913-0478-4574-ab54-3fdc65050a5a",
   "metadata": {},
   "outputs": [
    {
     "data": {
      "image/png": "[encoded data removed]",
      "text/plain": [
       "<Figure size 584.875x500 with 1 Axes>"
      ]
     },
     "metadata": {},
     "output_type": "display_data"
    }
   ],
   "source": [
    "# Plot difference in prices searched between accepted and rejected applicants\n",
    "_ = sns. displot(data=merged_df[merged_df['filter_price_max'] <= 600], x='filter_price_max', hue='accepted', multiple='dodge')"
   ]
  },
  {
   "cell_type": "markdown",
   "id": "34109fed-5def-45f2-9cb5-c4609f0ffb7a",
   "metadata": {},
   "source": [
    "### Acceptance Rates by Price Class <a id='acceptance_rate'></a>"
   ]
  },
  {
   "cell_type": "code",
   "execution_count": 44,
   "id": "0b103ae5-caf2-4d74-900b-a225f786414e",
   "metadata": {},
   "outputs": [],
   "source": [
    "# Create class_max_price for classifying dataset based on filter_price_max\n",
    "merged_df['class_max_price'] = pd.cut(x=merged_df['filter_price_max'], bins=[0, 100, 200, 300, 400, 500, 600, np.inf], labels=['0-100', '100-200', '200-300', '300-400', '400-500', '500-600', '600+'])"
   ]
  },
  {
   "cell_type": "code",
   "execution_count": 45,
   "id": "49f3cb2c-8487-4c66-8ebe-b67205b5b3c2",
   "metadata": {},
   "outputs": [
    {
     "data": {
      "text/plain": [
       "class_max_price\n",
       "0-100      0.413148\n",
       "100-200    0.429932\n",
       "200-300    0.427129\n",
       "300-400    0.452174\n",
       "400-500    0.485549\n",
       "500-600    0.419463\n",
       "600+       0.434903\n",
       "Name: accepted, dtype: float64"
      ]
     },
     "execution_count": 45,
     "metadata": {},
     "output_type": "execute_result"
    }
   ],
   "source": [
    "# Calculate mean acceptance rates for price classes\n",
    "merged_df.groupby(by='class_max_price', observed=True)['accepted'].mean()"
   ]
  },
  {
   "cell_type": "markdown",
   "id": "ef635f60-b794-4c86-8020-9432e260cbb8",
   "metadata": {},
   "source": [
    "- Across the price classes, the acceptance rate is similar.\n",
    "- Overall, more applicants are rejected rather than being approved by hosts."
   ]
  },
  {
   "cell_type": "markdown",
   "id": "09d0a7f6-c7ac-4661-9641-7982231f0fe2",
   "metadata": {},
   "source": [
    "### Acceptance Rates by Country of Origin <a id='acceptance-rate-country'></a>"
   ]
  },
  {
   "cell_type": "code",
   "execution_count": 46,
   "id": "1f360f0e-7f49-48b2-aacf-4aed26f42ea9",
   "metadata": {},
   "outputs": [
    {
     "data": {
      "text/html": [
       "<div>\n",
       "<style scoped>\n",
       "    .dataframe tbody tr th:only-of-type {\n",
       "        vertical-align: middle;\n",
       "    }\n",
       "\n",
       "    .dataframe tbody tr th {\n",
       "        vertical-align: top;\n",
       "    }\n",
       "\n",
       "    .dataframe thead th {\n",
       "        text-align: right;\n",
       "    }\n",
       "</style>\n",
       "<table border=\"1\" class=\"dataframe\">\n",
       "  <thead>\n",
       "    <tr style=\"text-align: right;\">\n",
       "      <th></th>\n",
       "      <th>count_accepted</th>\n",
       "      <th>count_country</th>\n",
       "      <th>acceptance_rate</th>\n",
       "    </tr>\n",
       "    <tr>\n",
       "      <th>origin_country</th>\n",
       "      <th></th>\n",
       "      <th></th>\n",
       "      <th></th>\n",
       "    </tr>\n",
       "  </thead>\n",
       "  <tbody>\n",
       "    <tr>\n",
       "      <th>IN</th>\n",
       "      <td>138</td>\n",
       "      <td>874</td>\n",
       "      <td>0.157895</td>\n",
       "    </tr>\n",
       "    <tr>\n",
       "      <th>HR</th>\n",
       "      <td>159</td>\n",
       "      <td>530</td>\n",
       "      <td>0.300000</td>\n",
       "    </tr>\n",
       "    <tr>\n",
       "      <th>AT</th>\n",
       "      <td>83</td>\n",
       "      <td>239</td>\n",
       "      <td>0.347280</td>\n",
       "    </tr>\n",
       "    <tr>\n",
       "      <th>RU</th>\n",
       "      <td>83</td>\n",
       "      <td>239</td>\n",
       "      <td>0.347280</td>\n",
       "    </tr>\n",
       "    <tr>\n",
       "      <th>IT</th>\n",
       "      <td>1183</td>\n",
       "      <td>3137</td>\n",
       "      <td>0.377112</td>\n",
       "    </tr>\n",
       "    <tr>\n",
       "      <th>AE</th>\n",
       "      <td>59</td>\n",
       "      <td>154</td>\n",
       "      <td>0.383117</td>\n",
       "    </tr>\n",
       "    <tr>\n",
       "      <th>CA</th>\n",
       "      <td>407</td>\n",
       "      <td>993</td>\n",
       "      <td>0.409869</td>\n",
       "    </tr>\n",
       "    <tr>\n",
       "      <th>IE</th>\n",
       "      <td>1217</td>\n",
       "      <td>2951</td>\n",
       "      <td>0.412403</td>\n",
       "    </tr>\n",
       "    <tr>\n",
       "      <th>ES</th>\n",
       "      <td>794</td>\n",
       "      <td>1914</td>\n",
       "      <td>0.414838</td>\n",
       "    </tr>\n",
       "    <tr>\n",
       "      <th>RO</th>\n",
       "      <td>50</td>\n",
       "      <td>118</td>\n",
       "      <td>0.423729</td>\n",
       "    </tr>\n",
       "    <tr>\n",
       "      <th>CR</th>\n",
       "      <td>82</td>\n",
       "      <td>188</td>\n",
       "      <td>0.436170</td>\n",
       "    </tr>\n",
       "    <tr>\n",
       "      <th>GB</th>\n",
       "      <td>1610</td>\n",
       "      <td>3667</td>\n",
       "      <td>0.439051</td>\n",
       "    </tr>\n",
       "    <tr>\n",
       "      <th>BE</th>\n",
       "      <td>134</td>\n",
       "      <td>304</td>\n",
       "      <td>0.440789</td>\n",
       "    </tr>\n",
       "    <tr>\n",
       "      <th>BR</th>\n",
       "      <td>215</td>\n",
       "      <td>482</td>\n",
       "      <td>0.446058</td>\n",
       "    </tr>\n",
       "    <tr>\n",
       "      <th>AU</th>\n",
       "      <td>268</td>\n",
       "      <td>590</td>\n",
       "      <td>0.454237</td>\n",
       "    </tr>\n",
       "    <tr>\n",
       "      <th>FR</th>\n",
       "      <td>1526</td>\n",
       "      <td>3232</td>\n",
       "      <td>0.472153</td>\n",
       "    </tr>\n",
       "    <tr>\n",
       "      <th>CH</th>\n",
       "      <td>279</td>\n",
       "      <td>585</td>\n",
       "      <td>0.476923</td>\n",
       "    </tr>\n",
       "    <tr>\n",
       "      <th>US</th>\n",
       "      <td>2050</td>\n",
       "      <td>4298</td>\n",
       "      <td>0.476966</td>\n",
       "    </tr>\n",
       "    <tr>\n",
       "      <th>DE</th>\n",
       "      <td>745</td>\n",
       "      <td>1535</td>\n",
       "      <td>0.485342</td>\n",
       "    </tr>\n",
       "    <tr>\n",
       "      <th>NL</th>\n",
       "      <td>212</td>\n",
       "      <td>433</td>\n",
       "      <td>0.489607</td>\n",
       "    </tr>\n",
       "    <tr>\n",
       "      <th>SG</th>\n",
       "      <td>115</td>\n",
       "      <td>232</td>\n",
       "      <td>0.495690</td>\n",
       "    </tr>\n",
       "    <tr>\n",
       "      <th>PT</th>\n",
       "      <td>101</td>\n",
       "      <td>203</td>\n",
       "      <td>0.497537</td>\n",
       "    </tr>\n",
       "    <tr>\n",
       "      <th>DK</th>\n",
       "      <td>86</td>\n",
       "      <td>125</td>\n",
       "      <td>0.688000</td>\n",
       "    </tr>\n",
       "  </tbody>\n",
       "</table>\n",
       "</div>"
      ],
      "text/plain": [
       "                count_accepted  count_country  acceptance_rate\n",
       "origin_country                                                \n",
       "IN                         138            874         0.157895\n",
       "HR                         159            530         0.300000\n",
       "AT                          83            239         0.347280\n",
       "RU                          83            239         0.347280\n",
       "IT                        1183           3137         0.377112\n",
       "AE                          59            154         0.383117\n",
       "CA                         407            993         0.409869\n",
       "IE                        1217           2951         0.412403\n",
       "ES                         794           1914         0.414838\n",
       "RO                          50            118         0.423729\n",
       "CR                          82            188         0.436170\n",
       "GB                        1610           3667         0.439051\n",
       "BE                         134            304         0.440789\n",
       "BR                         215            482         0.446058\n",
       "AU                         268            590         0.454237\n",
       "FR                        1526           3232         0.472153\n",
       "CH                         279            585         0.476923\n",
       "US                        2050           4298         0.476966\n",
       "DE                         745           1535         0.485342\n",
       "NL                         212            433         0.489607\n",
       "SG                         115            232         0.495690\n",
       "PT                         101            203         0.497537\n",
       "DK                          86            125         0.688000"
      ]
     },
     "execution_count": 46,
     "metadata": {},
     "output_type": "execute_result"
    }
   ],
   "source": [
    "# Find acceptance rate by country\n",
    "(merged_df.groupby(by='origin_country').agg(count_accepted=('accepted', 'sum'), count_country=('accepted', 'count'))\n",
    "        .query(expr='count_country >= 100')\n",
    "        .assign(acceptance_rate=lambda x: x['count_accepted'] / x['count_country'])\n",
    "        .sort_values(by='acceptance_rate'))"
   ]
  },
  {
   "cell_type": "markdown",
   "id": "a997cda1-9208-4f94-83c0-137c717101ab",
   "metadata": {},
   "source": [
    "- India has the lowest acceptance rate at around 16%.\n",
    "- The second ranked country has nearly twice the acceptance rate of India. This should be investigated further."
   ]
  },
  {
   "cell_type": "markdown",
   "id": "24041c6d-f815-4ccc-82fc-d5c8bb61a9ab",
   "metadata": {},
   "source": [
    "This notebook was inspired by the [Market Analysis in Dublin](https://platform.stratascratch.com/data-projects/market-analysis-dublin) data project on [StrataScratch](https://www.stratascratch.com/)."
   ]
  },
  {
   "cell_type": "code",
   "execution_count": null,
   "id": "3172a749-018a-4cb9-8866-9c90c5c587eb",
   "metadata": {},
   "outputs": [],
   "source": []
  }
 ],
 "metadata": {
  "kernelspec": {
   "display_name": "Python 3 (ipykernel)",
   "language": "python",
   "name": "python3"
  },
  "language_info": {
   "codemirror_mode": {
    "name": "ipython",
    "version": 3
   },
   "file_extension": ".py",
   "mimetype": "text/x-python",
   "name": "python",
   "nbconvert_exporter": "python",
   "pygments_lexer": "ipython3",
   "version": "3.11.6"
  }
 },
 "nbformat": 4,
 "nbformat_minor": 5
}
